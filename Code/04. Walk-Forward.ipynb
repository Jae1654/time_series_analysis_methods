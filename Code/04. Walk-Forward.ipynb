{
 "cells": [
  {
   "cell_type": "code",
   "execution_count": 15,
   "id": "d602dc5e",
   "metadata": {},
   "outputs": [],
   "source": [
    "import numpy as np\n",
    "import pandas as pd\n",
    "import matplotlib.pyplot as plt\n",
    "import itertools\n",
    "\n",
    "\n",
    "from sklearn.metrics import mean_squared_error\n",
    "from statsmodels.tsa.holtwinters import ExponentialSmoothing"
   ]
  },
  {
   "cell_type": "code",
   "execution_count": 16,
   "id": "74c65f48",
   "metadata": {},
   "outputs": [],
   "source": [
    "df = pd.read_csv(\"../Data/airline_passengers.csv\", index_col = 'Month',parse_dates = True)\n",
    "\n",
    "df.index.freq = 'MS'"
   ]
  },
  {
   "cell_type": "code",
   "execution_count": 34,
   "id": "b261f340",
   "metadata": {},
   "outputs": [],
   "source": [
    "# Forecase horizon to be 12, and validate over 10 steps\n",
    "h = 12\n",
    "steps = 10\n",
    "Ntest = len(df) - h - steps + 1"
   ]
  },
  {
   "cell_type": "code",
   "execution_count": 22,
   "id": "bac1e45b",
   "metadata": {},
   "outputs": [],
   "source": [
    "# Configuaration hpyerparameters to try\n",
    "trend_type_list = ['add', 'mul']\n",
    "seasonal_type_list = ['add', 'mul']\n",
    "damped_trend_list = [True, False]\n",
    "init_method_list = ['estimated', 'heuristic', 'legacy-heuristic']\n",
    "use_boxcox_list = [True, False, 0]"
   ]
  },
  {
   "cell_type": "code",
   "execution_count": 35,
   "id": "ac1804ba",
   "metadata": {},
   "outputs": [],
   "source": [
    "def walkforward(\n",
    "    trend_type,\n",
    "    seasonal_type,\n",
    "    damped_trend,\n",
    "    init_method,\n",
    "    use_boxcox,\n",
    "    debug = False):\n",
    "    \n",
    "    # store errors\n",
    "    errors = []\n",
    "    seen_last = False\n",
    "    steps_completed = 0\n",
    "    \n",
    "    for end_of_train in range(Ntest, len(df)-h +1):\n",
    "        train = df.iloc[:end_of_train]\n",
    "        test = df.iloc[end_of_train:end_of_train+h]\n",
    "        \n",
    "        if test.index[-1] == df.index[-1]:\n",
    "            seen_last = True\n",
    "        \n",
    "        steps_completed += 1\n",
    "        \n",
    "        # instanciate model\n",
    "        hw = ExponentialSmoothing(\n",
    "            train['Passengers'],\n",
    "            initialization_method = init_method,\n",
    "            trend = trend_type,\n",
    "            damped_trend = damped_trend,\n",
    "            seasonal = seasonal_type,\n",
    "            seasonal_periods = 12,\n",
    "            use_boxcox = use_boxcox)\n",
    "        \n",
    "        # fit model\n",
    "        res_hw = hw.fit()\n",
    "        # compute error       \n",
    "        fcast = res_hw.forecast(h)\n",
    "        error = mean_squared_error(test['Passengers'], fcast)\n",
    "        errors.append(error)\n",
    "        \n",
    "        \n",
    "    if debug:\n",
    "        print('Seen_last:', seen_last)\n",
    "        print('Steps completed:', steps_completed)\n",
    "            \n",
    "        \n",
    "    return np.mean(errors)"
   ]
  },
  {
   "cell_type": "code",
   "execution_count": 36,
   "id": "377cf5e1",
   "metadata": {},
   "outputs": [
    {
     "name": "stdout",
     "output_type": "stream",
     "text": [
      "Seen_last: True\n",
      "Steps completed: 10\n"
     ]
    },
    {
     "data": {
      "text/plain": [
       "1448.5299557261426"
      ]
     },
     "execution_count": 36,
     "metadata": {},
     "output_type": "execute_result"
    }
   ],
   "source": [
    "walkforward('add', 'add', False, 'legacy-heuristic', 0, debug = True)"
   ]
  },
  {
   "cell_type": "code",
   "execution_count": 38,
   "id": "28230808",
   "metadata": {},
   "outputs": [
    {
     "name": "stdout",
     "output_type": "stream",
     "text": [
      "('add', 'add', True, 'estimated', True)\n",
      "('add', 'add', True, 'estimated', False)\n",
      "('add', 'add', True, 'estimated', 0)\n",
      "('add', 'add', True, 'heuristic', True)\n",
      "('add', 'add', True, 'heuristic', False)\n",
      "('add', 'add', True, 'heuristic', 0)\n",
      "('add', 'add', True, 'legacy-heuristic', True)\n",
      "('add', 'add', True, 'legacy-heuristic', False)\n",
      "('add', 'add', True, 'legacy-heuristic', 0)\n",
      "('add', 'add', False, 'estimated', True)\n",
      "('add', 'add', False, 'estimated', False)\n",
      "('add', 'add', False, 'estimated', 0)\n",
      "('add', 'add', False, 'heuristic', True)\n",
      "('add', 'add', False, 'heuristic', False)\n",
      "('add', 'add', False, 'heuristic', 0)\n",
      "('add', 'add', False, 'legacy-heuristic', True)\n",
      "('add', 'add', False, 'legacy-heuristic', False)\n",
      "('add', 'add', False, 'legacy-heuristic', 0)\n",
      "('add', 'mul', True, 'estimated', True)\n",
      "('add', 'mul', True, 'estimated', False)\n",
      "('add', 'mul', True, 'estimated', 0)\n",
      "('add', 'mul', True, 'heuristic', True)\n",
      "('add', 'mul', True, 'heuristic', False)\n",
      "('add', 'mul', True, 'heuristic', 0)\n",
      "('add', 'mul', True, 'legacy-heuristic', True)\n",
      "('add', 'mul', True, 'legacy-heuristic', False)\n",
      "('add', 'mul', True, 'legacy-heuristic', 0)\n",
      "('add', 'mul', False, 'estimated', True)\n",
      "('add', 'mul', False, 'estimated', False)\n",
      "('add', 'mul', False, 'estimated', 0)\n",
      "('add', 'mul', False, 'heuristic', True)\n",
      "('add', 'mul', False, 'heuristic', False)\n",
      "('add', 'mul', False, 'heuristic', 0)\n",
      "('add', 'mul', False, 'legacy-heuristic', True)\n",
      "('add', 'mul', False, 'legacy-heuristic', False)\n",
      "('add', 'mul', False, 'legacy-heuristic', 0)\n",
      "('mul', 'add', True, 'estimated', True)\n",
      "('mul', 'add', True, 'estimated', False)\n",
      "('mul', 'add', True, 'estimated', 0)\n",
      "('mul', 'add', True, 'heuristic', True)\n",
      "('mul', 'add', True, 'heuristic', False)\n",
      "('mul', 'add', True, 'heuristic', 0)\n",
      "('mul', 'add', True, 'legacy-heuristic', True)\n",
      "('mul', 'add', True, 'legacy-heuristic', False)\n",
      "('mul', 'add', True, 'legacy-heuristic', 0)\n",
      "('mul', 'add', False, 'estimated', True)\n",
      "('mul', 'add', False, 'estimated', False)\n",
      "('mul', 'add', False, 'estimated', 0)\n",
      "('mul', 'add', False, 'heuristic', True)\n",
      "('mul', 'add', False, 'heuristic', False)\n",
      "('mul', 'add', False, 'heuristic', 0)\n",
      "('mul', 'add', False, 'legacy-heuristic', True)\n",
      "('mul', 'add', False, 'legacy-heuristic', False)\n",
      "('mul', 'add', False, 'legacy-heuristic', 0)\n",
      "('mul', 'mul', True, 'estimated', True)\n",
      "('mul', 'mul', True, 'estimated', False)\n",
      "('mul', 'mul', True, 'estimated', 0)\n",
      "('mul', 'mul', True, 'heuristic', True)\n",
      "('mul', 'mul', True, 'heuristic', False)\n",
      "('mul', 'mul', True, 'heuristic', 0)\n",
      "('mul', 'mul', True, 'legacy-heuristic', True)\n",
      "('mul', 'mul', True, 'legacy-heuristic', False)\n",
      "('mul', 'mul', True, 'legacy-heuristic', 0)\n",
      "('mul', 'mul', False, 'estimated', True)\n",
      "('mul', 'mul', False, 'estimated', False)\n",
      "('mul', 'mul', False, 'estimated', 0)\n",
      "('mul', 'mul', False, 'heuristic', True)\n",
      "('mul', 'mul', False, 'heuristic', False)\n",
      "('mul', 'mul', False, 'heuristic', 0)\n",
      "('mul', 'mul', False, 'legacy-heuristic', True)\n",
      "('mul', 'mul', False, 'legacy-heuristic', False)\n",
      "('mul', 'mul', False, 'legacy-heuristic', 0)\n"
     ]
    }
   ],
   "source": [
    "tuple_of_option_lists = (trend_type_list, seasonal_type_list, damped_trend_list,\n",
    "                         init_method_list, use_boxcox_list)\n",
    "\n",
    "\n",
    "for x in itertools.product(*tuple_of_option_lists):\n",
    "    print(x)"
   ]
  },
  {
   "cell_type": "code",
   "execution_count": 42,
   "id": "4d29b4ef",
   "metadata": {},
   "outputs": [
    {
     "name": "stdout",
     "output_type": "stream",
     "text": [
      "btest score so far: 412.81722512759035\n",
      "btest score so far: 397.58717663508753\n",
      "btest score so far: 368.78744187032964\n",
      "btest score so far: 320.6641440996174\n",
      "btest score so far: 308.13594793688765\n"
     ]
    },
    {
     "name": "stderr",
     "output_type": "stream",
     "text": [
      "/Users/yunjaecho/miniconda3/lib/python3.10/site-packages/statsmodels/tsa/holtwinters/model.py:83: RuntimeWarning: overflow encountered in matmul\n",
      "  return err.T @ err\n",
      "/Users/yunjaecho/miniconda3/lib/python3.10/site-packages/statsmodels/tsa/holtwinters/model.py:83: RuntimeWarning: overflow encountered in matmul\n",
      "  return err.T @ err\n",
      "/Users/yunjaecho/miniconda3/lib/python3.10/site-packages/statsmodels/tsa/holtwinters/model.py:83: RuntimeWarning: overflow encountered in matmul\n",
      "  return err.T @ err\n",
      "/Users/yunjaecho/miniconda3/lib/python3.10/site-packages/statsmodels/tsa/holtwinters/model.py:83: RuntimeWarning: overflow encountered in matmul\n",
      "  return err.T @ err\n",
      "/Users/yunjaecho/miniconda3/lib/python3.10/site-packages/statsmodels/tsa/holtwinters/model.py:83: RuntimeWarning: overflow encountered in matmul\n",
      "  return err.T @ err\n",
      "/Users/yunjaecho/miniconda3/lib/python3.10/site-packages/statsmodels/tsa/holtwinters/model.py:83: RuntimeWarning: overflow encountered in matmul\n",
      "  return err.T @ err\n",
      "/Users/yunjaecho/miniconda3/lib/python3.10/site-packages/statsmodels/tsa/holtwinters/model.py:83: RuntimeWarning: overflow encountered in matmul\n",
      "  return err.T @ err\n",
      "/Users/yunjaecho/miniconda3/lib/python3.10/site-packages/statsmodels/tsa/holtwinters/model.py:83: RuntimeWarning: overflow encountered in matmul\n",
      "  return err.T @ err\n",
      "/Users/yunjaecho/miniconda3/lib/python3.10/site-packages/statsmodels/tsa/holtwinters/model.py:83: RuntimeWarning: overflow encountered in matmul\n",
      "  return err.T @ err\n",
      "/Users/yunjaecho/miniconda3/lib/python3.10/site-packages/statsmodels/tsa/holtwinters/model.py:83: RuntimeWarning: overflow encountered in matmul\n",
      "  return err.T @ err\n",
      "/Users/yunjaecho/miniconda3/lib/python3.10/site-packages/statsmodels/tsa/holtwinters/model.py:83: RuntimeWarning: overflow encountered in matmul\n",
      "  return err.T @ err\n",
      "/Users/yunjaecho/miniconda3/lib/python3.10/site-packages/statsmodels/tsa/holtwinters/model.py:83: RuntimeWarning: overflow encountered in matmul\n",
      "  return err.T @ err\n",
      "/Users/yunjaecho/miniconda3/lib/python3.10/site-packages/statsmodels/tsa/holtwinters/model.py:83: RuntimeWarning: overflow encountered in matmul\n",
      "  return err.T @ err\n",
      "/Users/yunjaecho/miniconda3/lib/python3.10/site-packages/statsmodels/tsa/holtwinters/model.py:83: RuntimeWarning: overflow encountered in matmul\n",
      "  return err.T @ err\n",
      "/Users/yunjaecho/miniconda3/lib/python3.10/site-packages/statsmodels/tsa/holtwinters/model.py:83: RuntimeWarning: overflow encountered in matmul\n",
      "  return err.T @ err\n",
      "/Users/yunjaecho/miniconda3/lib/python3.10/site-packages/statsmodels/tsa/holtwinters/model.py:83: RuntimeWarning: overflow encountered in matmul\n",
      "  return err.T @ err\n",
      "/Users/yunjaecho/miniconda3/lib/python3.10/site-packages/statsmodels/tsa/holtwinters/model.py:83: RuntimeWarning: overflow encountered in matmul\n",
      "  return err.T @ err\n"
     ]
    },
    {
     "name": "stdout",
     "output_type": "stream",
     "text": [
      "btest score so far: 303.7571039830317\n",
      "btest score so far: 299.8204146874229\n",
      "btest score so far: 261.88071979981294\n",
      "btest score so far: 249.57174144104027\n"
     ]
    },
    {
     "name": "stderr",
     "output_type": "stream",
     "text": [
      "/Users/yunjaecho/miniconda3/lib/python3.10/site-packages/statsmodels/tsa/holtwinters/model.py:83: RuntimeWarning: overflow encountered in matmul\n",
      "  return err.T @ err\n",
      "/Users/yunjaecho/miniconda3/lib/python3.10/site-packages/statsmodels/tsa/holtwinters/model.py:83: RuntimeWarning: overflow encountered in matmul\n",
      "  return err.T @ err\n",
      "/Users/yunjaecho/miniconda3/lib/python3.10/site-packages/statsmodels/tsa/holtwinters/model.py:83: RuntimeWarning: overflow encountered in matmul\n",
      "  return err.T @ err\n",
      "/Users/yunjaecho/miniconda3/lib/python3.10/site-packages/statsmodels/tsa/holtwinters/model.py:83: RuntimeWarning: overflow encountered in matmul\n",
      "  return err.T @ err\n",
      "/Users/yunjaecho/miniconda3/lib/python3.10/site-packages/statsmodels/tsa/holtwinters/model.py:83: RuntimeWarning: overflow encountered in matmul\n",
      "  return err.T @ err\n",
      "/Users/yunjaecho/miniconda3/lib/python3.10/site-packages/statsmodels/tsa/holtwinters/model.py:83: RuntimeWarning: overflow encountered in matmul\n",
      "  return err.T @ err\n",
      "/Users/yunjaecho/miniconda3/lib/python3.10/site-packages/statsmodels/tsa/holtwinters/model.py:83: RuntimeWarning: overflow encountered in matmul\n",
      "  return err.T @ err\n",
      "/Users/yunjaecho/miniconda3/lib/python3.10/site-packages/statsmodels/tsa/holtwinters/model.py:83: RuntimeWarning: overflow encountered in matmul\n",
      "  return err.T @ err\n",
      "/Users/yunjaecho/miniconda3/lib/python3.10/site-packages/statsmodels/tsa/holtwinters/model.py:83: RuntimeWarning: overflow encountered in matmul\n",
      "  return err.T @ err\n",
      "/Users/yunjaecho/miniconda3/lib/python3.10/site-packages/statsmodels/tsa/holtwinters/model.py:83: RuntimeWarning: overflow encountered in matmul\n",
      "  return err.T @ err\n",
      "/Users/yunjaecho/miniconda3/lib/python3.10/site-packages/statsmodels/tsa/holtwinters/model.py:83: RuntimeWarning: overflow encountered in matmul\n",
      "  return err.T @ err\n",
      "/Users/yunjaecho/miniconda3/lib/python3.10/site-packages/statsmodels/tsa/holtwinters/model.py:83: RuntimeWarning: overflow encountered in matmul\n",
      "  return err.T @ err\n",
      "/Users/yunjaecho/miniconda3/lib/python3.10/site-packages/statsmodels/tsa/holtwinters/model.py:83: RuntimeWarning: overflow encountered in matmul\n",
      "  return err.T @ err\n",
      "/Users/yunjaecho/miniconda3/lib/python3.10/site-packages/statsmodels/tsa/holtwinters/model.py:83: RuntimeWarning: overflow encountered in matmul\n",
      "  return err.T @ err\n",
      "/Users/yunjaecho/miniconda3/lib/python3.10/site-packages/statsmodels/tsa/holtwinters/model.py:83: RuntimeWarning: overflow encountered in matmul\n",
      "  return err.T @ err\n",
      "/Users/yunjaecho/miniconda3/lib/python3.10/site-packages/statsmodels/tsa/holtwinters/model.py:83: RuntimeWarning: overflow encountered in matmul\n",
      "  return err.T @ err\n",
      "/Users/yunjaecho/miniconda3/lib/python3.10/site-packages/statsmodels/tsa/holtwinters/model.py:83: RuntimeWarning: overflow encountered in matmul\n",
      "  return err.T @ err\n",
      "/Users/yunjaecho/miniconda3/lib/python3.10/site-packages/statsmodels/tsa/holtwinters/model.py:83: RuntimeWarning: overflow encountered in matmul\n",
      "  return err.T @ err\n"
     ]
    }
   ],
   "source": [
    "best_score = float('inf')\n",
    "best_options = None\n",
    "for x in itertools.product(*tuple_of_option_lists):\n",
    "    score = walkforward(*x)\n",
    "    \n",
    "    if score < best_score:\n",
    "        print(\"btest score so far:\", score)\n",
    "        best_score = score\n",
    "        best_options = x"
   ]
  },
  {
   "cell_type": "code",
   "execution_count": 43,
   "id": "6e7d41c0",
   "metadata": {},
   "outputs": [
    {
     "name": "stdout",
     "output_type": "stream",
     "text": [
      "Best Score: 249.57174144104027\n",
      "trend_type mul\n",
      "seasonal_type add\n",
      "damped_trend False\n",
      "init_method legacy-heuristic\n",
      "use_boxcox False\n"
     ]
    }
   ],
   "source": [
    "print('Best Score:', best_score)\n",
    "t, s, d, i , u = best_options\n",
    "\n",
    "print('trend_type', t)\n",
    "print('seasonal_type', s)\n",
    "print('damped_trend', d)\n",
    "print('init_method', i)\n",
    "print('use_boxcox', u)"
   ]
  }
 ],
 "metadata": {
  "kernelspec": {
   "display_name": "Python 3 (ipykernel)",
   "language": "python",
   "name": "python3"
  },
  "language_info": {
   "codemirror_mode": {
    "name": "ipython",
    "version": 3
   },
   "file_extension": ".py",
   "mimetype": "text/x-python",
   "name": "python",
   "nbconvert_exporter": "python",
   "pygments_lexer": "ipython3",
   "version": "3.10.12"
  }
 },
 "nbformat": 4,
 "nbformat_minor": 5
}
