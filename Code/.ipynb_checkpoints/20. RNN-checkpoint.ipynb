{
 "cells": [
  {
   "cell_type": "code",
   "execution_count": 2,
   "id": "c472408f",
   "metadata": {},
   "outputs": [],
   "source": [
    "from tensorflow.keras.layers import Input, SimpleRNN, Dense, Flatten\n",
    "from tensorflow.keras.models import Model\n",
    "from tensorflow.keras.optimizers import SGD, Adam\n",
    "\n",
    "import numpy as np\n",
    "import pandas as pd\n",
    "import matplotlib.pyplot as plt"
   ]
  },
  {
   "cell_type": "code",
   "execution_count": 3,
   "id": "2ca2b22e",
   "metadata": {},
   "outputs": [],
   "source": [
    "# This need to remember\n",
    "# N = number of smaples\n",
    "# T = seqeunce length\n",
    "# D = number of input features\n",
    "# M = number of hidden units\n",
    "# K = number of output units"
   ]
  },
  {
   "cell_type": "code",
   "execution_count": 4,
   "id": "02f1971c",
   "metadata": {},
   "outputs": [],
   "source": [
    "# Make data\n",
    "N = 1\n",
    "T = 10\n",
    "D = 3\n",
    "K = 2\n",
    "X = np.random.randn(N, T, D)"
   ]
  },
  {
   "cell_type": "code",
   "execution_count": 8,
   "id": "1446e1a4",
   "metadata": {},
   "outputs": [],
   "source": [
    "# Make an RNN\n",
    "M = 5 # nuumber of hidden units\n",
    "i = Input(shape = (T, D))\n",
    "x = SimpleRNN(M)(i)\n",
    "x = Dense(K)(x)\n",
    "\n",
    "model = Model(i, x)"
   ]
  },
  {
   "cell_type": "code",
   "execution_count": 10,
   "id": "cc8414e1",
   "metadata": {},
   "outputs": [
    {
     "name": "stderr",
     "output_type": "stream",
     "text": [
      "2023-09-19 23:31:03.124236: W tensorflow/tsl/platform/profile_utils/cpu_utils.cc:128] Failed to get CPU frequency: 0 Hz\n"
     ]
    },
    {
     "name": "stdout",
     "output_type": "stream",
     "text": [
      "1/1 [==============================] - 0s 281ms/step\n",
      "[[-0.62727934  1.0614909 ]]\n"
     ]
    }
   ],
   "source": [
    "Yhat = model.predict(X)\n",
    "print(Yhat)"
   ]
  },
  {
   "cell_type": "code",
   "execution_count": 11,
   "id": "cfc5fe9d",
   "metadata": {},
   "outputs": [
    {
     "name": "stdout",
     "output_type": "stream",
     "text": [
      "Model: \"model_1\"\n",
      "_________________________________________________________________\n",
      " Layer (type)                Output Shape              Param #   \n",
      "=================================================================\n",
      " input_3 (InputLayer)        [(None, 10, 3)]           0         \n",
      "                                                                 \n",
      " simple_rnn_2 (SimpleRNN)    (None, 5)                 45        \n",
      "                                                                 \n",
      " dense_1 (Dense)             (None, 2)                 12        \n",
      "                                                                 \n",
      "=================================================================\n",
      "Total params: 57\n",
      "Trainable params: 57\n",
      "Non-trainable params: 0\n",
      "_________________________________________________________________\n"
     ]
    }
   ],
   "source": [
    "model.summary()"
   ]
  },
  {
   "cell_type": "code",
   "execution_count": 13,
   "id": "f2158172",
   "metadata": {},
   "outputs": [
    {
     "data": {
      "text/plain": [
       "[array([[ 0.53814167, -0.80856854, -0.12996107, -0.5392158 , -0.77763855],\n",
       "        [-0.39233786, -0.41469947,  0.18533856,  0.54855496,  0.15296918],\n",
       "        [ 0.5063209 ,  0.14819974,  0.698237  ,  0.8036383 ,  0.5483932 ]],\n",
       "       dtype=float32),\n",
       " array([[ 0.58509743,  0.3394373 , -0.03230477, -0.73579746,  0.00140982],\n",
       "        [-0.21549957,  0.30247974, -0.79420376,  0.00212456, -0.48093843],\n",
       "        [-0.5370347 , -0.09862508, -0.2817062 , -0.45894355,  0.6417782 ],\n",
       "        [ 0.56805104, -0.34464285, -0.53531265,  0.31701335,  0.41410413],\n",
       "        [-0.01151665, -0.81534207, -0.04773585, -0.3840198 , -0.43050528]],\n",
       "       dtype=float32),\n",
       " array([0., 0., 0., 0., 0.], dtype=float32)]"
      ]
     },
     "execution_count": 13,
     "metadata": {},
     "output_type": "execute_result"
    }
   ],
   "source": [
    "model.layers[1].get_weights()"
   ]
  },
  {
   "cell_type": "code",
   "execution_count": null,
   "id": "4686b53f",
   "metadata": {},
   "outputs": [],
   "source": []
  }
 ],
 "metadata": {
  "kernelspec": {
   "display_name": "Python 3 (ipykernel)",
   "language": "python",
   "name": "python3"
  },
  "language_info": {
   "codemirror_mode": {
    "name": "ipython",
    "version": 3
   },
   "file_extension": ".py",
   "mimetype": "text/x-python",
   "name": "python",
   "nbconvert_exporter": "python",
   "pygments_lexer": "ipython3",
   "version": "3.10.10"
  }
 },
 "nbformat": 4,
 "nbformat_minor": 5
}
